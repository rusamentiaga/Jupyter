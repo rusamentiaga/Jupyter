{
 "cells": [
  {
   "cell_type": "code",
   "execution_count": 2,
   "id": "efa2379a",
   "metadata": {},
   "outputs": [
    {
     "name": "stdout",
     "output_type": "stream",
     "text": [
      "Computer: 16 CPUs, 125.7 GB RAM, 1560.1/1832.2 GB disk\n",
      "Using torch.version: 1.13.0a0+d0d6b1f\n",
      "GPU: NVIDIA GeForce RTX 3090, 24268 MB, capability 8.6\n",
      "Using torch.version.cuda: 11.8\n"
     ]
    }
   ],
   "source": [
    "import torch\n",
    "\n",
    "def print_gpu_info():\n",
    "    # setting device on GPU if available, else CPU\n",
    "    print(f\"Using torch.version: {torch.__version__}\")\n",
    "    \n",
    "    if torch.cuda.is_available():\n",
    "        name = torch.cuda.get_device_name(0)\n",
    "        mem = round(torch.cuda.get_device_properties(0).total_memory/1024**2,0)\n",
    "        cudacap = torch.cuda.get_device_capability()\n",
    "        print(f\"GPU: {name}, {mem:.0f} MB, capability {cudacap[0]}.{cudacap[1]}\")\n",
    "        print(f'Using torch.version.cuda: {torch.version.cuda}')\n",
    "    else:\n",
    "        print(f\"GPU not available\")\n",
    "        \n",
    "    \n",
    "\n",
    "import os\n",
    "import shutil\n",
    "import psutil\n",
    "\n",
    "def print_computer_info():\n",
    "    gb = 1 << 30  # bytes to GiB (1024 ** 3)\n",
    "    ram = psutil.virtual_memory().total\n",
    "    total, used, free = shutil.disk_usage(\"/\")\n",
    "    s = f'Computer: {os.cpu_count()} CPUs, {ram / gb:.1f} GB RAM, {(total - free) / gb:.1f}/{total / gb:.1f} GB disk'\n",
    "    print(f'{s}')\n",
    "\n",
    "print_computer_info()\n",
    "print_gpu_info()"
   ]
  }
 ],
 "metadata": {
  "kernelspec": {
   "display_name": "Python 3 (ipykernel)",
   "language": "python",
   "name": "python3"
  },
  "language_info": {
   "codemirror_mode": {
    "name": "ipython",
    "version": 3
   },
   "file_extension": ".py",
   "mimetype": "text/x-python",
   "name": "python",
   "nbconvert_exporter": "python",
   "pygments_lexer": "ipython3",
   "version": "3.8.13"
  }
 },
 "nbformat": 4,
 "nbformat_minor": 5
}
